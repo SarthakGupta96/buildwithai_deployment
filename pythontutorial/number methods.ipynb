{
 "cells": [
  {
   "cell_type": "code",
   "execution_count": 2,
   "id": "f06c23ca-d24e-4908-af3b-a9af5a10cee8",
   "metadata": {},
   "outputs": [
    {
     "data": {
      "text/plain": [
       "10"
      ]
     },
     "execution_count": 2,
     "metadata": {},
     "output_type": "execute_result"
    }
   ],
   "source": [
    "abs(10)"
   ]
  },
  {
   "cell_type": "code",
   "execution_count": 3,
   "id": "d890738b-1886-4131-b4dd-eac6c817bf31",
   "metadata": {},
   "outputs": [
    {
     "data": {
      "text/plain": [
       "69.69"
      ]
     },
     "execution_count": 3,
     "metadata": {},
     "output_type": "execute_result"
    }
   ],
   "source": [
    "abs(-69.69)"
   ]
  },
  {
   "cell_type": "code",
   "execution_count": 3,
   "id": "d141d5bc-27f8-4b7d-a328-7cedb0954ec3",
   "metadata": {},
   "outputs": [],
   "source": [
    "import math"
   ]
  },
  {
   "cell_type": "code",
   "execution_count": 8,
   "id": "fbfc53de-8885-45dc-bfb1-7d6826bd15af",
   "metadata": {},
   "outputs": [
    {
     "data": {
      "text/plain": [
       "44"
      ]
     },
     "execution_count": 8,
     "metadata": {},
     "output_type": "execute_result"
    }
   ],
   "source": [
    "math.ceil(43.69)"
   ]
  },
  {
   "cell_type": "code",
   "execution_count": 10,
   "id": "f60477da-13a4-4c6a-a5a8-5f0cd5bad7bd",
   "metadata": {},
   "outputs": [
    {
     "data": {
      "text/plain": [
       "44"
      ]
     },
     "execution_count": 10,
     "metadata": {},
     "output_type": "execute_result"
    }
   ],
   "source": [
    "math.ceil(43.01)"
   ]
  },
  {
   "cell_type": "code",
   "execution_count": 12,
   "id": "1113e2fa-ab48-4099-b878-5aa9930dd5dd",
   "metadata": {},
   "outputs": [
    {
     "data": {
      "text/plain": [
       "-69"
      ]
     },
     "execution_count": 12,
     "metadata": {},
     "output_type": "execute_result"
    }
   ],
   "source": [
    "math.ceil(-69.5)"
   ]
  },
  {
   "cell_type": "code",
   "execution_count": 13,
   "id": "1751b9f2-57d9-40c7-abe5-6b3d220f7722",
   "metadata": {},
   "outputs": [],
   "source": [
    "###floor"
   ]
  },
  {
   "cell_type": "code",
   "execution_count": 16,
   "id": "d6085841-2e2c-42ba-89b5-e677b2c479c3",
   "metadata": {},
   "outputs": [
    {
     "data": {
      "text/plain": [
       "43"
      ]
     },
     "execution_count": 16,
     "metadata": {},
     "output_type": "execute_result"
    }
   ],
   "source": [
    "math.floor(43.9999)"
   ]
  },
  {
   "cell_type": "code",
   "execution_count": 17,
   "id": "6eaa3a84-ea46-42da-8ad9-d2597f30755a",
   "metadata": {},
   "outputs": [
    {
     "data": {
      "text/plain": [
       "-6970"
      ]
     },
     "execution_count": 17,
     "metadata": {},
     "output_type": "execute_result"
    }
   ],
   "source": [
    "math.floor(-6969.69)"
   ]
  },
  {
   "cell_type": "code",
   "execution_count": 18,
   "id": "a561fa6d-dfd4-4974-a5fc-5d17ea59a9d0",
   "metadata": {},
   "outputs": [
    {
     "data": {
      "text/plain": [
       "7.38905609893065"
      ]
     },
     "execution_count": 18,
     "metadata": {},
     "output_type": "execute_result"
    }
   ],
   "source": [
    "##exponential\n",
    "math.exp(2)"
   ]
  },
  {
   "cell_type": "code",
   "execution_count": 20,
   "id": "941a2793-db3e-4205-9613-d5f1e8ad4809",
   "metadata": {},
   "outputs": [
    {
     "data": {
      "text/plain": [
       "10.0"
      ]
     },
     "execution_count": 20,
     "metadata": {},
     "output_type": "execute_result"
    }
   ],
   "source": [
    "###fabs\n",
    "math.fabs(-10)"
   ]
  },
  {
   "cell_type": "code",
   "execution_count": 22,
   "id": "36d979e8-b905-4df6-b043-112fe8962192",
   "metadata": {},
   "outputs": [
    {
     "data": {
      "text/plain": [
       "100.6969"
      ]
     },
     "execution_count": 22,
     "metadata": {},
     "output_type": "execute_result"
    }
   ],
   "source": [
    "math.fabs(100.6969)"
   ]
  },
  {
   "cell_type": "code",
   "execution_count": 24,
   "id": "1a829216-e6cd-4457-b7e6-f77055db8492",
   "metadata": {},
   "outputs": [
    {
     "data": {
      "text/plain": [
       "2.995732273553991"
      ]
     },
     "execution_count": 24,
     "metadata": {},
     "output_type": "execute_result"
    }
   ],
   "source": [
    "####logarithmic\n",
    "math.log(20)"
   ]
  },
  {
   "cell_type": "code",
   "execution_count": 4,
   "id": "b8009e7f-f58d-42a0-86bb-c3c119e1404e",
   "metadata": {},
   "outputs": [
    {
     "data": {
      "text/plain": [
       "1.6020599913279623"
      ]
     },
     "execution_count": 4,
     "metadata": {},
     "output_type": "execute_result"
    }
   ],
   "source": [
    "math.log10(40)"
   ]
  },
  {
   "cell_type": "code",
   "execution_count": 5,
   "id": "a24c7446-78b4-48b3-a044-a73cfc8fb80d",
   "metadata": {},
   "outputs": [
    {
     "data": {
      "text/plain": [
       "3.6888794541139363"
      ]
     },
     "execution_count": 5,
     "metadata": {},
     "output_type": "execute_result"
    }
   ],
   "source": [
    "math.log(40)"
   ]
  },
  {
   "cell_type": "code",
   "execution_count": 7,
   "id": "7ef6a2ab-5ffa-4495-90ac-6e8aaceda846",
   "metadata": {},
   "outputs": [
    {
     "data": {
      "text/plain": [
       "69"
      ]
     },
     "execution_count": 7,
     "metadata": {},
     "output_type": "execute_result"
    }
   ],
   "source": [
    "## MAX\n",
    "max(10,20,3,4,69,1,)"
   ]
  },
  {
   "cell_type": "code",
   "execution_count": 9,
   "id": "a11dd8f7-7dab-47f5-a545-a188d7703192",
   "metadata": {},
   "outputs": [
    {
     "data": {
      "text/plain": [
       "0"
      ]
     },
     "execution_count": 9,
     "metadata": {},
     "output_type": "execute_result"
    }
   ],
   "source": [
    "min(0,1,2,3,4232,212)"
   ]
  },
  {
   "cell_type": "code",
   "execution_count": 11,
   "id": "cfa3ee18-4dfd-41a5-a8fc-e46e2a3433eb",
   "metadata": {},
   "outputs": [
    {
     "data": {
      "text/plain": [
       "16"
      ]
     },
     "execution_count": 11,
     "metadata": {},
     "output_type": "execute_result"
    }
   ],
   "source": [
    "pow(2,4)"
   ]
  },
  {
   "cell_type": "code",
   "execution_count": 14,
   "id": "7f5035ef-0fdb-4e60-b70e-bbeedf4fdb9c",
   "metadata": {},
   "outputs": [
    {
     "data": {
      "text/plain": [
       "1.4142135623730951"
      ]
     },
     "execution_count": 14,
     "metadata": {},
     "output_type": "execute_result"
    }
   ],
   "source": [
    "math.sqrt(2)"
   ]
  },
  {
   "cell_type": "code",
   "execution_count": 16,
   "id": "742758b2-55e5-4bfb-b7fa-16f4ada6ba8d",
   "metadata": {},
   "outputs": [
    {
     "data": {
      "text/plain": [
       "9.0"
      ]
     },
     "execution_count": 16,
     "metadata": {},
     "output_type": "execute_result"
    }
   ],
   "source": [
    "math.sqrt(81)"
   ]
  },
  {
   "cell_type": "code",
   "execution_count": 18,
   "id": "650b4e58-8c87-41a7-b3bb-f59f3c44e45f",
   "metadata": {},
   "outputs": [
    {
     "data": {
      "text/plain": [
       "0.8939966636005579"
      ]
     },
     "execution_count": 18,
     "metadata": {},
     "output_type": "execute_result"
    }
   ],
   "source": [
    "###TRIGONOMETRIC FUNCTIONS\n",
    "math.sin(90)"
   ]
  },
  {
   "cell_type": "code",
   "execution_count": 20,
   "id": "cbe21bb9-eee7-4e32-86c0-024053c76874",
   "metadata": {},
   "outputs": [
    {
     "data": {
      "text/plain": [
       "1.0"
      ]
     },
     "execution_count": 20,
     "metadata": {},
     "output_type": "execute_result"
    }
   ],
   "source": [
    "math.cos(0)"
   ]
  },
  {
   "cell_type": "code",
   "execution_count": null,
   "id": "677606a1-e6dd-4552-9b5e-247634bb02ac",
   "metadata": {},
   "outputs": [],
   "source": [
    "math.modf()"
   ]
  }
 ],
 "metadata": {
  "kernelspec": {
   "display_name": "Python 3 (ipykernel)",
   "language": "python",
   "name": "python3"
  },
  "language_info": {
   "codemirror_mode": {
    "name": "ipython",
    "version": 3
   },
   "file_extension": ".py",
   "mimetype": "text/x-python",
   "name": "python",
   "nbconvert_exporter": "python",
   "pygments_lexer": "ipython3",
   "version": "3.13.2"
  }
 },
 "nbformat": 4,
 "nbformat_minor": 5
}
