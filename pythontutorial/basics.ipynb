{
 "cells": [
  {
   "cell_type": "code",
   "execution_count": 31,
   "id": "a7410d24-b17f-4523-b4ff-5896bca5c065",
   "metadata": {},
   "outputs": [
    {
     "name": "stdout",
     "output_type": "stream",
     "text": [
      "i am a loser\n"
     ]
    }
   ],
   "source": [
    "print(\"i am a loser\")\n"
   ]
  },
  {
   "cell_type": "code",
   "execution_count": 32,
   "id": "d6d66601-377d-4f09-8d8f-6e0252050a7f",
   "metadata": {},
   "outputs": [
    {
     "name": "stdout",
     "output_type": "stream",
     "text": [
      "<class 'bool'>\n"
     ]
    }
   ],
   "source": [
    "print(type(True))"
   ]
  },
  {
   "cell_type": "code",
   "execution_count": 33,
   "id": "b7dc6919-5024-4d1a-9678-faf8c6472c13",
   "metadata": {},
   "outputs": [
    {
     "data": {
      "text/plain": [
       "True"
      ]
     },
     "execution_count": 33,
     "metadata": {},
     "output_type": "execute_result"
    }
   ],
   "source": [
    "bool(1)"
   ]
  },
  {
   "cell_type": "code",
   "execution_count": 34,
   "id": "b3fc00b0-bdfc-4e96-9f7e-26647c5f6e4c",
   "metadata": {},
   "outputs": [
    {
     "data": {
      "text/plain": [
       "False"
      ]
     },
     "execution_count": 34,
     "metadata": {},
     "output_type": "execute_result"
    }
   ],
   "source": [
    "True and False\n"
   ]
  },
  {
   "cell_type": "code",
   "execution_count": 35,
   "id": "b86c8e00-020f-4da8-b852-6fd57d14258c",
   "metadata": {},
   "outputs": [
    {
     "data": {
      "text/plain": [
       "True"
      ]
     },
     "execution_count": 35,
     "metadata": {},
     "output_type": "execute_result"
    }
   ],
   "source": [
    "True or False"
   ]
  },
  {
   "cell_type": "code",
   "execution_count": null,
   "id": "1d56c1cf-6a9c-4a88-ae4f-78438cc2c55c",
   "metadata": {},
   "outputs": [],
   "source": [
    "age=int(input(\"enter an num:\"))\n",
    "if(age>18 and age<45):\n",
    "    print(\"adult\")\n",
    "else:\n",
    "    print(\"minor\")"
   ]
  },
  {
   "cell_type": "code",
   "execution_count": null,
   "id": "6df2d756-b186-4cfd-a1e8-c6659102f183",
   "metadata": {},
   "outputs": [],
   "source": [
    "not False\n"
   ]
  },
  {
   "cell_type": "code",
   "execution_count": 1,
   "id": "557c32d5-c041-4da4-b8e5-388294ed2792",
   "metadata": {},
   "outputs": [
    {
     "data": {
      "text/plain": [
       "False"
      ]
     },
     "execution_count": 1,
     "metadata": {},
     "output_type": "execute_result"
    }
   ],
   "source": [
    "###Equality operators or comparison operator\n",
    "a=\"1sarthak\"\n",
    "b=\"sarthak1\"\n",
    "a==b"
   ]
  },
  {
   "cell_type": "code",
   "execution_count": 2,
   "id": "b771fc9f-e7b0-48f2-9586-5fad45e5cd84",
   "metadata": {},
   "outputs": [
    {
     "name": "stdout",
     "output_type": "stream",
     "text": [
      "1743146058688\n",
      "1743146058688\n"
     ]
    }
   ],
   "source": [
    "a=\"gupta\"\n",
    "b=\"gupta\"\n",
    "print(id(a))\n",
    "print(id(b))\n",
    "### these are at same memory location and is operator also checks the same thing that if they are at the same position or not\n"
   ]
  },
  {
   "cell_type": "code",
   "execution_count": null,
   "id": "2871edf3-dd82-40f5-9a3e-77e81c71443a",
   "metadata": {},
   "outputs": [],
   "source": [
    "a is b"
   ]
  },
  {
   "cell_type": "code",
   "execution_count": 30,
   "id": "a66d8854-4892-41ac-b354-f73b9b8f3e73",
   "metadata": {},
   "outputs": [
    {
     "name": "stdout",
     "output_type": "stream",
     "text": [
      "True\n",
      "False\n"
     ]
    }
   ],
   "source": [
    "### While checking collections of lists they can be equal but there id will be different\n",
    "lst=[1,2,3]\n",
    "lst1=[1,2,3]\n",
    "print(lst==lst1)\n",
    "print(lst is lst1)\n"
   ]
  },
  {
   "cell_type": "code",
   "execution_count": null,
   "id": "95f78d39-507b-4e8f-8a6b-e9593d0c38e0",
   "metadata": {},
   "outputs": [],
   "source": []
  }
 ],
 "metadata": {
  "kernelspec": {
   "display_name": "Python 3 (ipykernel)",
   "language": "python",
   "name": "python3"
  },
  "language_info": {
   "codemirror_mode": {
    "name": "ipython",
    "version": 3
   },
   "file_extension": ".py",
   "mimetype": "text/x-python",
   "name": "python",
   "nbconvert_exporter": "python",
   "pygments_lexer": "ipython3",
   "version": "3.13.2"
  }
 },
 "nbformat": 4,
 "nbformat_minor": 5
}
